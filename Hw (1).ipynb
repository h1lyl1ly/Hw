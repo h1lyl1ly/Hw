{
 "cells": [
  {
   "cell_type": "markdown",
   "metadata": {},
   "source": [
    "# Homework on Statistical Learning Theory"
   ]
  },
  {
   "cell_type": "markdown",
   "metadata": {},
   "source": [
    "<b>Deadline:</b> 24.12.2018, 9 a.m. (there would be no soft deadline)\n",
    "\n",
    "<b>How to hang in?</b> You need to put your Jupyter Notebook to GitHub repo and send link in Telegram to <b>@CroCode</b>"
   ]
  },
  {
   "cell_type": "markdown",
   "metadata": {
    "collapsed": true
   },
   "source": [
    "Mamatov Timur"
   ]
  },
  {
   "cell_type": "markdown",
   "metadata": {},
   "source": [
    "### Block №1. Combinatorics and Probability Theory\n",
    "\n",
    "You can use LaTeX expressions in order to provide formulas: https://en.wikibooks.org/wiki/LaTeX"
   ]
  },
  {
   "cell_type": "markdown",
   "metadata": {},
   "source": [
    "1) In how many ways can the letters of the word PROBABILITY be rearranged such that all I’s and P’s appear in the middle?\n",
    "\n",
    "<b>Total:</b> 1 point"
   ]
  },
  {
   "cell_type": "markdown",
   "metadata": {
    "collapsed": true
   },
   "source": [
    "The word PROBABILITY has 11 letters. Since all I's and P's appear in the middle, the 8 remaining letters can be arranged in  8!/2!=20160 ; the denominator is included because there are two B's.\n",
    "\n",
    "The I's and P's can be also rearranged in the middle positions in  3!/2!=3 , ; the denominator is included because there are two I's.\n",
    "\n",
    "Thus, the number of ways in which the letters of the word PROBABILITY can be rearranged such that all I’s and P’s appear in the middle is  20160(3)=60480 .\n",
    "\n"
   ]
  },
  {
   "cell_type": "markdown",
   "metadata": {},
   "source": [
    "2) The probability of having defect (at least 1 defective product) in batch of 100 products is 63.2%. Find the probability of having less than 3 defective products in such a batch.\n",
    "\n",
    "<i>Hint:</i> use idea of Poisson distribution (https://en.wikipedia.org/wiki/Poisson_distribution)\n",
    "\n",
    "<b>Total:</b> 1.5 points"
   ]
  },
  {
   "cell_type": "markdown",
   "metadata": {
    "collapsed": true
   },
   "source": [
    "Let  X  be the random variable \"number of defective products out of 100\". A first approach consists on modelling  X  as a binomial random variable, i.e.  X∼Bin(100,0.632) . In this case,  P(X<3)=∑2i=0C100i(0.632)i(1−0.632)100−i≈5.68∗10−40 \n",
    "The binomial distribution can be approximated by a Poisson distribution when n is \"large\" and p is \"small\", by setting  λ=np . In this case, I do not consider that p fulfills such requirement. Nevertheless, I report the results:\n",
    "\n",
    "P(X<3)=∑2i=0e−100(0.632)(100(0.632))i/i!≈7.36∗10−25 ."
   ]
  },
  {
   "cell_type": "markdown",
   "metadata": {},
   "source": [
    "### Block №2. Data Structures and Algorithms\n",
    "\n",
    "<b><i>NB!</i></b> Here you need to provide solution having minimal memory and runtime complexity in terms of Big O notation."
   ]
  },
  {
   "cell_type": "markdown",
   "metadata": {},
   "source": [
    "3) Suggest an algorithm that resets all elements in the column <i>i</i> and the row <i>j</i> of the matrix M to zeros if the element in the <i>(i, j)</i> cell is zero. Provide solution having minimal memory and runtime complexity in terms of Big O notation.\n",
    "\n",
    "<b>Input:</b> matrix M\n",
    "\n",
    "<b>Output:</b> modified according to condition matrix M\n",
    "\n",
    "<b>Total:</b> 2 points"
   ]
  },
  {
   "cell_type": "code",
   "execution_count": 7,
   "metadata": {},
   "outputs": [],
   "source": [
    "import numpy as np\n",
    "\n",
    "#Input. M :a matrix of dimension m x n\n",
    "def g(M):\n",
    "    nr = np.shape(M)[0]\n",
    "    nc = np.shape(M)[1]\n",
    "    # 1. Create two row vectors filled with ones, r and c, of dimensions m x 1 and n x 1, respectively. \n",
    "    r = [1] * nr\n",
    "    c = [1] * nc\n",
    "    # 2. For each element M[i,j], if it is zero, then set r[i] and c[j] equal to 0. (The complexity of this step is O(mn))\n",
    "    for i in np.arange(nr):\n",
    "        for j in np.arange(nc):\n",
    "            if M[i,j] == 0:\n",
    "                r[i] = 0\n",
    "                c[j] = 0\n",
    "            else:\n",
    "                pass\n",
    "    # 3. The resulting matrix is given by M1 = r' * c.  (The complexity of this step is O(mn))    \n",
    "    M1 = np.matmul(np.matrix(r).T, np.matrix(c))\n",
    "    M1 = np.multiply(M1,M)\n",
    "    # Return M1.    \n",
    "    return (M1)\n",
    "    # I noticed that an entry of the new matrix is non-null only when there are non-null entries on its corresponding row and column. \n",
    "    # Then the step 3 is is equivalent to perform the logical operation AND between all the possible pairs r[i] and c[j], for \n",
    "    # i = 1,...,m; j = 1,...,n\n",
    "\n",
    "    \n",
    "    "
   ]
  },
  {
   "cell_type": "markdown",
   "metadata": {},
   "source": [
    "4) Imagine you have a square picture, each pixel of which can be black or white (you can interpret it as binary matrix). Develop an algorithm for finding the maximum sub-square consisting of only black pixels.\n",
    "\n",
    "<b>Input:</b> binary matrix M (contains only 0-1 elements)\n",
    "\n",
    "<b>Output:</b> <i>((a1, b1),(a2, b2))</i> where <i>(a1, b1)</i> and <i>(a2, b2)</i> stay for coordinates of upper-left and lower-right sub-square corners respectively\n",
    "\n",
    "<b>Total:</b> 2.5 points"
   ]
  },
  {
   "cell_type": "code",
   "execution_count": 10,
   "metadata": {},
   "outputs": [
    {
     "ename": "SyntaxError",
     "evalue": "invalid syntax (<ipython-input-10-e5d2fe1176ca>, line 7)",
     "output_type": "error",
     "traceback": [
      "\u001b[0;36m  File \u001b[0;32m\"<ipython-input-10-e5d2fe1176ca>\"\u001b[0;36m, line \u001b[0;32m7\u001b[0m\n\u001b[0;31m    print(g(N))..\u001b[0m\n\u001b[0m                ^\u001b[0m\n\u001b[0;31mSyntaxError\u001b[0m\u001b[0;31m:\u001b[0m invalid syntax\n"
     ]
    }
   ],
   "source": []
  },
  {
   "cell_type": "markdown",
   "metadata": {},
   "source": [
    "5) Imagine series of integer numbers having only 3, 5 or 7 of some power in their factorization (i.e. 1, 3, 5, 7, 9, 15 etc.). Given k you're asked to return k-th number in this series.\n",
    "\n",
    "<i>Helpful link</i>: https://en.wikipedia.org/wiki/Fundamental_theorem_of_arithmetic\n",
    "\n",
    "<b>Input:</b> integer number k\n",
    "\n",
    "<b>Output:</b> k-th number of series\n",
    "\n",
    "<b>Total:</b> 3 points"
   ]
  },
  {
   "cell_type": "code",
   "execution_count": null,
   "metadata": {
    "collapsed": true
   },
   "outputs": [],
   "source": [
    "# put your code with comments here\n",
    "\n",
    "# Memory complexity: ...\n",
    "# Runtime complexity: ..."
   ]
  }
 ],
 "metadata": {
  "kernelspec": {
   "display_name": "Python 3",
   "language": "python",
   "name": "python3"
  },
  "language_info": {
   "codemirror_mode": {
    "name": "ipython",
    "version": 3
   },
   "file_extension": ".py",
   "mimetype": "text/x-python",
   "name": "python",
   "nbconvert_exporter": "python",
   "pygments_lexer": "ipython3",
   "version": "3.7.0"
  }
 },
 "nbformat": 4,
 "nbformat_minor": 2
}
